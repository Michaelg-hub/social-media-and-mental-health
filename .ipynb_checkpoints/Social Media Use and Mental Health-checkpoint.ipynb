{
 "cells": [
  {
   "cell_type": "markdown",
   "id": "85269a3d",
   "metadata": {},
   "source": [
    "# Social Media Use Patterns and Mental Health, a Data Science Project\n",
    "\n",
    "The relationship between social media use and mental health outcomes is not fully understood.\n",
    "Given that social media is widespread among many different demographics, it is critical to understand this relationship and the effects social media has on mental health in order to properly treat mental disorders and improve quality of life for those suffering from them.\n",
    "\n",
    "As \"mental health\" is a far reaching and abstractly defined concept, this project will focus on two of the most common mental health disorders, anxiety and depression, and will use various machine learning classifiers in an attempt to isolate the relationship between these disorders and social media use in individuals."
   ]
  },
  {
   "cell_type": "markdown",
   "id": "a1c80fb4",
   "metadata": {},
   "source": [
    "### The impact of mental illness\n",
    "\n",
    "Mental illness impacts individuals, and by extension society, in a variety of ways.\n",
    "\n",
    "According to the World Health Organization (WHO):\n",
    "- Mental health conditions can cause difficulties in all aspects of life, including relationships with family, friends and community.\n",
    "- In 2019, 970 million people globally were living with a mental disorder, with anxiety and depression the most common. This means approximately **1 in 8[/bold] people suffer from some form of mental illness.\n",
    "- In 2019, 301 million people were living with an anxiety disorder including 58 million children and adolescents.\n",
    "- In 2019, 280 million people were living with depression, including 23 million children and adolescents.\n",
    "\n",
    "The high prevalence of both social media use and mental health disorders combined with the currently limited understanding of the way they interact makes further analysis of the subject crucial to public health."
   ]
  },
  {
   "cell_type": "markdown",
   "id": "91488289",
   "metadata": {},
   "source": [
    "# Project goals\n",
    "\n",
    "Despite the prevalence of these disorders, detection and diagnosis still pose a significant challenge due to several factors:\n",
    "- Diagnosis of anxiety and depression is made according to the self reported feelings of the patient.\n",
    "\n",
    "  This means that factors such as the individuals personal feelings on mental health, their willingness to accept help, and social stigma all play a part in the detection of these disorders in a way which is not present with physical conditions.\n",
    "-  Disease comorbidity\n",
    "\n",
    "   The existence of two or more mental health disorders in an individual is common, and those with one type of mental disorder often develop other types of mental disorders.\n",
    "   Moreover, many disorders share similar symptoms, making it difficult to identify the primary condition.\n",
    "\n",
    "The primary goal of this project is to create a predictive model for detection of anxiety and depression based on individual social media use patterns.\n",
    "Through this, I hope to create another tool for individuals and health care professionals to use in the difficult task of mental health diagnosis.\n",
    "\n",
    "The secondary goal of this project is to map the relationship between mental health and social media, and to identify healthy and unhealthy social media use patterns using machine learning tools. "
   ]
  },
  {
   "cell_type": "markdown",
   "id": "f6e8b10c-72b1-4f06-91e0-3c84f4030548",
   "metadata": {},
   "source": [
    "# Exploratory Data Analysis\n",
    "### The Dataset"
   ]
  },
  {
   "cell_type": "markdown",
   "id": "c1c289fa-edcd-47cc-891a-871a7ef053da",
   "metadata": {},
   "source": [
    "The dataset used in this project is comprised of 482 responses to a survey conducted on Bangladeshi citizens.\n",
    "The first 8 questions are designed to understand the demographics and social media use patterns of the participants. \n",
    "The last 12 questions are designed to get various mental health indicators regarding the participants, and responses are based on the Likert scale (meaning a low score of 1 indicates that the participant \"strongly disagrees\" with the question, and a high score of 5 means the participant \"strongly agrees\").\n",
    "\n",
    "The set: https://docs.google.com/spreadsheets/d/1lWFIL7h0F7xtmJHNPJX7ttPkO4v9j3xQ2E9Qb1wjek4/edit?usp=sharing"
   ]
  },
  {
   "cell_type": "markdown",
   "id": "ebfedd5b-e5da-4d96-8b0b-79f71a391789",
   "metadata": {},
   "source": [
    "### Importing and loading the data"
   ]
  },
  {
   "cell_type": "code",
   "execution_count": 7,
   "id": "b55e12d0-1f00-40d1-9734-5abaf132b622",
   "metadata": {},
   "outputs": [],
   "source": [
    "import pandas as pd\n",
    "import numpy as np\n",
    "import matplotlib.pyplot as plt\n",
    "import seaborn as sns"
   ]
  },
  {
   "cell_type": "code",
   "execution_count": 8,
   "id": "5b0bd899-1c89-4782-8c04-0ff797c1212d",
   "metadata": {},
   "outputs": [],
   "source": [
    "data = pd.read_csv('formresponses.csv')"
   ]
  },
  {
   "cell_type": "markdown",
   "id": "2e19f63f-7cb5-417b-8bc2-97414b85e9f6",
   "metadata": {},
   "source": [
    "### Data Preprocessing"
   ]
  },
  {
   "cell_type": "markdown",
   "id": "b3f9704f-cefc-4b20-b511-8aaff7a721fb",
   "metadata": {},
   "source": [
    "We have ample information regarding the different variables, and so we will begin by performing manual dimensionality reduction to remove irrelevant data."
   ]
  },
  {
   "cell_type": "markdown",
   "id": "8544286b-e8e1-4bd4-a60e-be441fce2e87",
   "metadata": {},
   "source": [
    "Let us examine our variables:"
   ]
  },
  {
   "cell_type": "code",
   "execution_count": 12,
   "id": "3ca2bc81-808a-43df-90f3-5100c2d77cda",
   "metadata": {},
   "outputs": [
    {
     "data": {
      "text/plain": [
       "['Timestamp',\n",
       " '1. What is your age?',\n",
       " '2. Gender',\n",
       " '3. Relationship Status',\n",
       " '4. Occupation Status',\n",
       " '5. What type of organizations are you affiliated with?',\n",
       " '6. Do you use social media?',\n",
       " '7. What social media platforms do you commonly use?',\n",
       " '8. What is the average time you spend on social media every day?',\n",
       " '9. How often do you find yourself using Social media without a specific purpose?',\n",
       " '10. How often do you get distracted by Social media when you are busy doing something?',\n",
       " \"11. Do you feel restless if you haven't used Social media in a while?\",\n",
       " '12. On a scale of 1 to 5, how easily distracted are you?',\n",
       " '13. On a scale of 1 to 5, how much are you bothered by worries?',\n",
       " '14. Do you find it difficult to concentrate on things?',\n",
       " '15. On a scale of 1-5, how often do you compare yourself to other successful people through the use of social media?',\n",
       " '16. Following the previous question, how do you feel about these comparisons, generally speaking?',\n",
       " '17. How often do you look to seek validation from features of social media?',\n",
       " '18. How often do you feel depressed or down?',\n",
       " '19. On a scale of 1 to 5, how frequently does your interest in daily activities fluctuate?',\n",
       " '20. On a scale of 1 to 5, how often do you face issues regarding sleep?']"
      ]
     },
     "execution_count": 12,
     "metadata": {},
     "output_type": "execute_result"
    }
   ],
   "source": [
    "list(data.columns)"
   ]
  },
  {
   "cell_type": "markdown",
   "id": "7b84500a-c21e-4b97-93d6-a5beda402a37",
   "metadata": {},
   "source": [
    "Since the main focus of this project is an analysis related to depression and anxiety, we will remove all mental health indicators that are unrelated to these two conditions. The symptoms we require indicators for, and the questions that are relevant to them, are as follows:\n",
    "\n",
    "<u>Depression:</u>\n",
    "- a depressed mood (question 18)\n",
    "- a loss of pleasure or interest in activities (question 19)\n",
    "- poor concentration (questions 10, 12, 14)\n",
    "- feelings of excessive guilt or low self-worth (questions 15, 16, 17)\n",
    "- hopelessness about the future (question 13)\n",
    "- thoughts about dying or suicide (no relevant questions)\n",
    "- disrupted sleep (question 20)\n",
    "- changes in appetite or weight (no relevant questions)\n",
    "- feeling very tired or low in energy. (question 18)\n",
    "\n",
    "<u>Anxiety:</u>\n",
    "- excessive fear or worry about a specific situation or a broad range of everyday situations (question 13)\n",
    "- poor concentration (questions 10, 12, 14)\n",
    "- feeling irritable, tense or restless (question 11)\n",
    "- experiencing nausea or abdominal distress (no relevant questions)\n",
    "- having heart palpitations (no relevant questions)\n",
    "- sweating, trembling or shaking (no relevant questions)\n",
    "- disrupted sleep (question 20)\n",
    "- having a sense of impending danger, panic or doom (question 13)\n",
    "\n",
    "(symptoms for both disorders are according to the WHO: https://www.who.int/news-room/fact-sheets/detail/depression, https://www.who.int/news-room/fact-sheets/detail/anxiety-disorders)\n",
    "\n",
    "We can see that all the questions that are mental health indicators are relevant to our analysis except question 9.\n",
    "In addition, the first column indicates a timestamp for when the participant took the survery, which we dont need.\n",
    "So, we will remove these columns from our dataframe."
   ]
  },
  {
   "cell_type": "code",
   "execution_count": 14,
   "id": "c53a5b4f-8bdd-4f0b-a510-9cba3ba3be0c",
   "metadata": {},
   "outputs": [],
   "source": [
    "data = data.drop(columns=['Timestamp', '9. How often do you find yourself using Social media without a specific purpose?'], axis=1)"
   ]
  },
  {
   "cell_type": "markdown",
   "id": "721ee695-6996-4262-8870-efa94ebd5910",
   "metadata": {},
   "source": [
    "### Renaming the columns\n",
    "we will rename the columns for the sake of simplicity."
   ]
  },
  {
   "cell_type": "code",
   "execution_count": 24,
   "id": "8f7d887c-f760-4aec-b591-70517f53079e",
   "metadata": {},
   "outputs": [],
   "source": [
    "data.rename(columns = {'1. What is your age?':'Age','2. Gender':'Sex','3. Relationship Status':'Relationship Status',\n",
    "                       '4. Occupation Status':'Occupation',\n",
    "                       '5. What type of organizations are you affiliated with?':'Affiliations',\n",
    "                       '6. Do you use social media?':'Social Media User?',\n",
    "                       '7. What social media platforms do you commonly use?':'Platforms Used',\n",
    "                       '8. What is the average time you spend on social media every day?':'Time Spent',\n",
    "                       '10. How often do you get distracted by Social media when you are busy doing something?':'Distracted by SM',\n",
    "                       \"11. Do you feel restless if you haven't used Social media in a while?\":'Restlessness',\n",
    "                       '12. On a scale of 1 to 5, how easily distracted are you?':'Easily Distracted',\n",
    "                       '13. On a scale of 1 to 5, how much are you bothered by worries?':'Anxious',\n",
    "                       '14. Do you find it difficult to concentrate on things?':'Difficulty Concentrating',\n",
    "                       '15. On a scale of 1-5, how often do you compare yourself to other successful people through the use of social media?':'SM Comparison',\n",
    "                       '16. Following the previous question, how do you feel about these comparisons, generally speaking?':'Feeling on SM Comparison',\n",
    "                       '17. How often do you look to seek validation from features of social media?':'SM Validation',\n",
    "                       '18. How often do you feel depressed or down?':'Depressed',\n",
    "                       '19. On a scale of 1 to 5, how frequently does your interest in daily activities fluctuate?':'Loss of Interest in Activities',\n",
    "                       '20. On a scale of 1 to 5, how often do you face issues regarding sleep?':'Sleep Issues' },inplace=True)"
   ]
  }
 ],
 "metadata": {
  "kernelspec": {
   "display_name": "Python 3 (ipykernel)",
   "language": "python",
   "name": "python3"
  },
  "language_info": {
   "codemirror_mode": {
    "name": "ipython",
    "version": 3
   },
   "file_extension": ".py",
   "mimetype": "text/x-python",
   "name": "python",
   "nbconvert_exporter": "python",
   "pygments_lexer": "ipython3",
   "version": "3.12.7"
  }
 },
 "nbformat": 4,
 "nbformat_minor": 5
}
