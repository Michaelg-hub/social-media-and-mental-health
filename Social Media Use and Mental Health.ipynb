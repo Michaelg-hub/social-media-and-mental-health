{
 "cells": [
  {
   "cell_type": "markdown",
   "id": "85269a3d",
   "metadata": {},
   "source": [
    "# Predicting Anxiety and Depression Based on Social Media Use Patterns\n",
    "\n",
    "The relationship between social media use and mental health outcomes is not fully understood.\n",
    "Given that social media is widespread among many different demographics, it is critical to understand this relationship and the effects social media has on mental health in order to properly treat mental disorders and improve quality of life for those suffering from them.\n",
    "\n",
    "As \"mental health\" is a far reaching and abstractly defined concept, this project will focus on two of the most common mental health disorders, anxiety and depression, and will use various machine learning classifiers to isolate the relationship between these disorders and social media use in individuals and create models capable of predicting depression and anxiety."
   ]
  },
  {
   "cell_type": "markdown",
   "id": "a1c80fb4",
   "metadata": {},
   "source": [
    "### The impact of mental illness\n",
    "\n",
    "Mental illness impacts individuals, and by extension society, in a variety of ways.\n",
    "\n",
    "According to the World Health Organization (WHO):\n",
    "- Mental health conditions can cause difficulties in all aspects of life, including relationships with family, friends and community.\n",
    "- In 2019, 970 million people globally were living with a mental disorder, with anxiety and depression the most common. This means approximately **1 in 8** people suffer from some form of mental illness.\n",
    "- In 2019, 301 million people were living with an anxiety disorder including 58 million children and adolescents.\n",
    "- In 2019, 280 million people were living with depression, including 23 million children and adolescents.\n",
    "\n",
    "The high prevalence of both social media use and mental health disorders combined with the currently limited understanding of the way they interact makes further analysis of the subject crucial to public health."
   ]
  },
  {
   "cell_type": "markdown",
   "id": "91488289",
   "metadata": {},
   "source": [
    "# Project goals\n",
    "\n",
    "Despite the prevalence of these disorders, detection and diagnosis still pose a significant challenge due to several factors:\n",
    "- Diagnosis of anxiety and depression is made according to the self reported feelings of the patient.\n",
    "\n",
    "  This means that factors such as the individuals personal feelings on mental health, their willingness to accept help, and social stigma all play a part in the detection of these disorders in a way which is not present with physical conditions.\n",
    "-  Disease comorbidity\n",
    "\n",
    "   The existence of two or more mental health disorders in an individual is common, and those with one type of mental disorder often develop other types of mental disorders.\n",
    "   Moreover, many disorders share similar symptoms, making it difficult to identify the primary condition.\n",
    "\n",
    "The primary goal of this project is to create a predictive model for detection of anxiety and depression based on individual social media use patterns.\n",
    "Through this, I hope to create another tool for individuals and health care professionals to use in the difficult task of mental health diagnosis.\n",
    "\n",
    "The secondary goal of this project is to map the relationship between mental health and social media, and to identify healthy and unhealthy social media use patterns using machine learning tools. "
   ]
  },
  {
   "cell_type": "markdown",
   "id": "f6e8b10c-72b1-4f06-91e0-3c84f4030548",
   "metadata": {},
   "source": [
    "# Exploratory Data Analysis\n",
    "### The Dataset"
   ]
  },
  {
   "cell_type": "markdown",
   "id": "c1c289fa-edcd-47cc-891a-871a7ef053da",
   "metadata": {},
   "source": [
    "The dataset used in this project is comprised of 482 responses to a survey conducted on Bangladeshi citizens.\n",
    "The first 8 questions are designed to understand the demographics and social media use patterns of the participants. \n",
    "The last 12 questions are designed to get various mental health indicators regarding the participants, and responses are based on the Likert scale (meaning a low score of 1 indicates that the participant \"strongly disagrees\" with the question, and a high score of 5 means the participant \"strongly agrees\").\n",
    "\n",
    "The set: https://docs.google.com/spreadsheets/d/1lWFIL7h0F7xtmJHNPJX7ttPkO4v9j3xQ2E9Qb1wjek4/edit?usp=sharing"
   ]
  },
  {
   "cell_type": "markdown",
   "id": "ebfedd5b-e5da-4d96-8b0b-79f71a391789",
   "metadata": {},
   "source": [
    "### Importing and loading the data"
   ]
  },
  {
   "cell_type": "code",
   "execution_count": 7,
   "id": "b55e12d0-1f00-40d1-9734-5abaf132b622",
   "metadata": {},
   "outputs": [],
   "source": [
    "import pandas as pd\n",
    "import numpy as np\n",
    "import matplotlib.pyplot as plt\n",
    "import seaborn as sns"
   ]
  },
  {
   "cell_type": "code",
   "execution_count": 8,
   "id": "5b0bd899-1c89-4782-8c04-0ff797c1212d",
   "metadata": {},
   "outputs": [],
   "source": [
    "data = pd.read_csv('formresponses.csv')"
   ]
  },
  {
   "cell_type": "markdown",
   "id": "2e19f63f-7cb5-417b-8bc2-97414b85e9f6",
   "metadata": {},
   "source": [
    "### Data Preprocessing"
   ]
  },
  {
   "cell_type": "markdown",
   "id": "b3f9704f-cefc-4b20-b511-8aaff7a721fb",
   "metadata": {},
   "source": [
    "We have ample information regarding our parameters, and so we will begin by performing manual dimensionality reduction to remove irrelevant data.<br>\n",
    "Let us examine our variables:"
   ]
  },
  {
   "cell_type": "code",
   "execution_count": 11,
   "id": "3ca2bc81-808a-43df-90f3-5100c2d77cda",
   "metadata": {
    "scrolled": true
   },
   "outputs": [
    {
     "data": {
      "text/plain": [
       "['Timestamp',\n",
       " '1. What is your age?',\n",
       " '2. Gender',\n",
       " '3. Relationship Status',\n",
       " '4. Occupation Status',\n",
       " '5. What type of organizations are you affiliated with?',\n",
       " '6. Do you use social media?',\n",
       " '7. What social media platforms do you commonly use?',\n",
       " '8. What is the average time you spend on social media every day?',\n",
       " '9. How often do you find yourself using Social media without a specific purpose?',\n",
       " '10. How often do you get distracted by Social media when you are busy doing something?',\n",
       " \"11. Do you feel restless if you haven't used Social media in a while?\",\n",
       " '12. On a scale of 1 to 5, how easily distracted are you?',\n",
       " '13. On a scale of 1 to 5, how much are you bothered by worries?',\n",
       " '14. Do you find it difficult to concentrate on things?',\n",
       " '15. On a scale of 1-5, how often do you compare yourself to other successful people through the use of social media?',\n",
       " '16. Following the previous question, how do you feel about these comparisons, generally speaking?',\n",
       " '17. How often do you look to seek validation from features of social media?',\n",
       " '18. How often do you feel depressed or down?',\n",
       " '19. On a scale of 1 to 5, how frequently does your interest in daily activities fluctuate?',\n",
       " '20. On a scale of 1 to 5, how often do you face issues regarding sleep?']"
      ]
     },
     "execution_count": 11,
     "metadata": {},
     "output_type": "execute_result"
    }
   ],
   "source": [
    "list(data.columns)"
   ]
  },
  {
   "cell_type": "markdown",
   "id": "7b84500a-c21e-4b97-93d6-a5beda402a37",
   "metadata": {},
   "source": [
    "Since the main focus of this project is an analysis related to depression and anxiety, we will remove all mental health indicators that are unrelated to these two conditions. The symptoms we require indicators for, and the questions that are relevant to them, are as follows:\n",
    "\n",
    "<u>Depression:</u>\n",
    "- a depressed mood (question 18)\n",
    "- a loss of pleasure or interest in activities (question 19)\n",
    "- poor concentration (questions 10, 12, 14)\n",
    "- feelings of excessive guilt or low self-worth (question 15)\n",
    "- hopelessness about the future (no relevant questions)\n",
    "- thoughts about dying or suicide (no relevant questions)\n",
    "- disrupted sleep (question 20)\n",
    "- changes in appetite or weight (no relevant questions)\n",
    "- feeling very tired or low in energy. (question 18)\n",
    "\n",
    "<u>Anxiety:</u>\n",
    "- excessive fear or worry about a specific situation or a broad range of everyday situations (question 13)\n",
    "- poor concentration (questions 10, 12, 14)\n",
    "- feeling irritable, tense or restless (question 11)\n",
    "- experiencing nausea or abdominal distress (no relevant questions)\n",
    "- having heart palpitations (no relevant questions)\n",
    "- sweating, trembling or shaking (no relevant questions)\n",
    "- disrupted sleep (question 20)\n",
    "- having a sense of impending danger, panic or doom (question 13)\n",
    "\n",
    "(symptoms for both disorders are according to the WHO: https://www.who.int/news-room/fact-sheets/detail/depression, https://www.who.int/news-room/fact-sheets/detail/anxiety-disorders)\n",
    "\n",
    "We can see that all the questions that are mental health indicators are relevant to our analysis except questions 9, 16 and 17.<br>\n",
    "In addition, the first column indicates a timestamp for when the participant took the survery, which we dont need.<br>\n",
    "So, we will remove these columns from our dataframe."
   ]
  },
  {
   "cell_type": "code",
   "execution_count": 13,
   "id": "c53a5b4f-8bdd-4f0b-a510-9cba3ba3be0c",
   "metadata": {},
   "outputs": [],
   "source": [
    "data = data.drop(columns=['Timestamp', '9. How often do you find yourself using Social media without a specific purpose?', \n",
    "                          '16. Following the previous question, how do you feel about these comparisons, generally speaking?',\n",
    "                          '17. How often do you look to seek validation from features of social media?'], axis=1)"
   ]
  },
  {
   "cell_type": "markdown",
   "id": "721ee695-6996-4262-8870-efa94ebd5910",
   "metadata": {},
   "source": [
    "we will also rename the columns for the sake of simplicity:"
   ]
  },
  {
   "cell_type": "code",
   "execution_count": 15,
   "id": "8f7d887c-f760-4aec-b591-70517f53079e",
   "metadata": {},
   "outputs": [],
   "source": [
    "data.rename(columns = {'1. What is your age?':'Age','2. Gender':'Sex','3. Relationship Status':'Relationship Status',\n",
    "                       '4. Occupation Status':'Occupation',\n",
    "                       '5. What type of organizations are you affiliated with?':'Affiliations',\n",
    "                       '6. Do you use social media?':'Social Media User?',\n",
    "                       '7. What social media platforms do you commonly use?':'Platforms Used',\n",
    "                       '8. What is the average time you spend on social media every day?':'Time Spent',\n",
    "                       '10. How often do you get distracted by Social media when you are busy doing something?':'Distracted by SM',\n",
    "                       \"11. Do you feel restless if you haven't used Social media in a while?\":'Restlessness',\n",
    "                       '12. On a scale of 1 to 5, how easily distracted are you?':'Easily Distracted',\n",
    "                       '13. On a scale of 1 to 5, how much are you bothered by worries?':'Anxious',\n",
    "                       '14. Do you find it difficult to concentrate on things?':'Difficulty Concentrating',\n",
    "                       '15. On a scale of 1-5, how often do you compare yourself to other successful people through the use of social media?':'SM Comparison',\n",
    "                       '18. How often do you feel depressed or down?':'Depressed',\n",
    "                       '19. On a scale of 1 to 5, how frequently does your interest in daily activities fluctuate?':'Loss of Interest in Activities',\n",
    "                       '20. On a scale of 1 to 5, how often do you face issues regarding sleep?':'Sleep Issues' },inplace=True)"
   ]
  },
  {
   "cell_type": "markdown",
   "id": "5a9b05ec-adce-463d-8500-01afe3501a93",
   "metadata": {},
   "source": [
    "### Depression and Anxiety scores\n",
    "In order to train machine learning models on our data, we must first quantify the likelihood of depression and anxiety in our participants.<br> Since the answers for each indicator are on a scale of 1 to 5, we will do this by simply summing up the answers related to each condition, and adding them as columns \"Anxiety score\" and \"Depression score\". <br>We will also double the weight of questions 13 and 18, since they are the primary symptoms of each condition and are therefor the most direct indicators of anxiety/depression. "
   ]
  },
  {
   "cell_type": "code",
   "execution_count": 17,
   "id": "3537ddf2-c436-4de9-96c2-61b9bfe9347d",
   "metadata": {},
   "outputs": [],
   "source": [
    "# create arrays for each condition with the appropriate indicators according to the WHO as specified above\n",
    "\n",
    "depression = ['Depressed', 'Loss of Interest in Activities', 'Distracted by SM','Easily Distracted', 'Difficulty Concentrating', 'SM Comparison', 'Sleep Issues']\n",
    "anxiety = ['Anxious', 'Restlessness', 'Distracted by SM','Easily Distracted', 'Difficulty Concentrating', 'Sleep Issues']\n",
    "\n",
    "# sum up scores for depression and anxiety\n",
    "data['Depression Score'] = data[depression].sum(axis=1)\n",
    "data['Anxiety Score'] = data[anxiety].sum(axis=1)\n",
    "\n",
    "# double the weight of questions 13 and 18 by adding them to the score columns again.\n",
    "data['Depression Score'] += data['Depressed']\n",
    "data['Anxiety Score'] += data['Anxious']"
   ]
  },
  {
   "cell_type": "markdown",
   "id": "193a1c81-477c-49ec-9090-af8581e40514",
   "metadata": {},
   "source": [
    "There are 7 depression indicators and 6 anxiety indicators, so the score range for depression is [8, 40] and the score range for anxiety is [7, 35].<br>\n",
    "We will split each these ranges into 4 subranges indicating the likelihood of depression/anxiety in each participant, and add them as columns:<br>"
   ]
  },
  {
   "cell_type": "code",
   "execution_count": 19,
   "id": "8958e6d6-22da-4eeb-8881-1a744ca64455",
   "metadata": {},
   "outputs": [
    {
     "data": {
      "text/html": [
       "<div>\n",
       "<style scoped>\n",
       "    .dataframe tbody tr th:only-of-type {\n",
       "        vertical-align: middle;\n",
       "    }\n",
       "\n",
       "    .dataframe tbody tr th {\n",
       "        vertical-align: top;\n",
       "    }\n",
       "\n",
       "    .dataframe thead th {\n",
       "        text-align: right;\n",
       "    }\n",
       "</style>\n",
       "<table border=\"1\" class=\"dataframe\">\n",
       "  <thead>\n",
       "    <tr style=\"text-align: right;\">\n",
       "      <th></th>\n",
       "      <th>Age</th>\n",
       "      <th>Sex</th>\n",
       "      <th>Relationship Status</th>\n",
       "      <th>Occupation</th>\n",
       "      <th>Affiliations</th>\n",
       "      <th>Social Media User?</th>\n",
       "      <th>Platforms Used</th>\n",
       "      <th>Time Spent</th>\n",
       "      <th>Distracted by SM</th>\n",
       "      <th>Restlessness</th>\n",
       "      <th>...</th>\n",
       "      <th>Anxious</th>\n",
       "      <th>Difficulty Concentrating</th>\n",
       "      <th>SM Comparison</th>\n",
       "      <th>Depressed</th>\n",
       "      <th>Loss of Interest in Activities</th>\n",
       "      <th>Sleep Issues</th>\n",
       "      <th>Depression Score</th>\n",
       "      <th>Anxiety Score</th>\n",
       "      <th>Depression Likelihood</th>\n",
       "      <th>Anxiety Likelihood</th>\n",
       "    </tr>\n",
       "  </thead>\n",
       "  <tbody>\n",
       "    <tr>\n",
       "      <th>0</th>\n",
       "      <td>21.0</td>\n",
       "      <td>Male</td>\n",
       "      <td>In a relationship</td>\n",
       "      <td>University Student</td>\n",
       "      <td>University</td>\n",
       "      <td>Yes</td>\n",
       "      <td>Facebook, Twitter, Instagram, YouTube, Discord...</td>\n",
       "      <td>Between 2 and 3 hours</td>\n",
       "      <td>3</td>\n",
       "      <td>2</td>\n",
       "      <td>...</td>\n",
       "      <td>2</td>\n",
       "      <td>5</td>\n",
       "      <td>2</td>\n",
       "      <td>5</td>\n",
       "      <td>4</td>\n",
       "      <td>5</td>\n",
       "      <td>34</td>\n",
       "      <td>24</td>\n",
       "      <td>very high</td>\n",
       "      <td>high</td>\n",
       "    </tr>\n",
       "    <tr>\n",
       "      <th>1</th>\n",
       "      <td>21.0</td>\n",
       "      <td>Female</td>\n",
       "      <td>Single</td>\n",
       "      <td>University Student</td>\n",
       "      <td>University</td>\n",
       "      <td>Yes</td>\n",
       "      <td>Facebook, Twitter, Instagram, YouTube, Discord...</td>\n",
       "      <td>More than 5 hours</td>\n",
       "      <td>3</td>\n",
       "      <td>2</td>\n",
       "      <td>...</td>\n",
       "      <td>5</td>\n",
       "      <td>4</td>\n",
       "      <td>5</td>\n",
       "      <td>5</td>\n",
       "      <td>4</td>\n",
       "      <td>5</td>\n",
       "      <td>35</td>\n",
       "      <td>28</td>\n",
       "      <td>very high</td>\n",
       "      <td>high</td>\n",
       "    </tr>\n",
       "    <tr>\n",
       "      <th>2</th>\n",
       "      <td>21.0</td>\n",
       "      <td>Female</td>\n",
       "      <td>Single</td>\n",
       "      <td>University Student</td>\n",
       "      <td>University</td>\n",
       "      <td>Yes</td>\n",
       "      <td>Facebook, Instagram, YouTube, Pinterest</td>\n",
       "      <td>Between 3 and 4 hours</td>\n",
       "      <td>2</td>\n",
       "      <td>1</td>\n",
       "      <td>...</td>\n",
       "      <td>5</td>\n",
       "      <td>4</td>\n",
       "      <td>3</td>\n",
       "      <td>4</td>\n",
       "      <td>2</td>\n",
       "      <td>5</td>\n",
       "      <td>26</td>\n",
       "      <td>24</td>\n",
       "      <td>high</td>\n",
       "      <td>high</td>\n",
       "    </tr>\n",
       "    <tr>\n",
       "      <th>3</th>\n",
       "      <td>21.0</td>\n",
       "      <td>Female</td>\n",
       "      <td>Single</td>\n",
       "      <td>University Student</td>\n",
       "      <td>University</td>\n",
       "      <td>Yes</td>\n",
       "      <td>Facebook, Instagram</td>\n",
       "      <td>More than 5 hours</td>\n",
       "      <td>2</td>\n",
       "      <td>1</td>\n",
       "      <td>...</td>\n",
       "      <td>5</td>\n",
       "      <td>3</td>\n",
       "      <td>5</td>\n",
       "      <td>4</td>\n",
       "      <td>3</td>\n",
       "      <td>2</td>\n",
       "      <td>26</td>\n",
       "      <td>21</td>\n",
       "      <td>high</td>\n",
       "      <td>moderate</td>\n",
       "    </tr>\n",
       "    <tr>\n",
       "      <th>4</th>\n",
       "      <td>21.0</td>\n",
       "      <td>Female</td>\n",
       "      <td>Single</td>\n",
       "      <td>University Student</td>\n",
       "      <td>University</td>\n",
       "      <td>Yes</td>\n",
       "      <td>Facebook, Instagram, YouTube</td>\n",
       "      <td>Between 2 and 3 hours</td>\n",
       "      <td>5</td>\n",
       "      <td>4</td>\n",
       "      <td>...</td>\n",
       "      <td>5</td>\n",
       "      <td>5</td>\n",
       "      <td>3</td>\n",
       "      <td>4</td>\n",
       "      <td>4</td>\n",
       "      <td>1</td>\n",
       "      <td>30</td>\n",
       "      <td>29</td>\n",
       "      <td>high</td>\n",
       "      <td>high</td>\n",
       "    </tr>\n",
       "  </tbody>\n",
       "</table>\n",
       "<p>5 rows × 21 columns</p>\n",
       "</div>"
      ],
      "text/plain": [
       "    Age     Sex Relationship Status          Occupation Affiliations  \\\n",
       "0  21.0    Male   In a relationship  University Student   University   \n",
       "1  21.0  Female              Single  University Student   University   \n",
       "2  21.0  Female              Single  University Student   University   \n",
       "3  21.0  Female              Single  University Student   University   \n",
       "4  21.0  Female              Single  University Student   University   \n",
       "\n",
       "  Social Media User?                                     Platforms Used  \\\n",
       "0                Yes  Facebook, Twitter, Instagram, YouTube, Discord...   \n",
       "1                Yes  Facebook, Twitter, Instagram, YouTube, Discord...   \n",
       "2                Yes            Facebook, Instagram, YouTube, Pinterest   \n",
       "3                Yes                                Facebook, Instagram   \n",
       "4                Yes                       Facebook, Instagram, YouTube   \n",
       "\n",
       "              Time Spent  Distracted by SM  Restlessness  ...  Anxious  \\\n",
       "0  Between 2 and 3 hours                 3             2  ...        2   \n",
       "1      More than 5 hours                 3             2  ...        5   \n",
       "2  Between 3 and 4 hours                 2             1  ...        5   \n",
       "3      More than 5 hours                 2             1  ...        5   \n",
       "4  Between 2 and 3 hours                 5             4  ...        5   \n",
       "\n",
       "   Difficulty Concentrating  SM Comparison  Depressed  \\\n",
       "0                         5              2          5   \n",
       "1                         4              5          5   \n",
       "2                         4              3          4   \n",
       "3                         3              5          4   \n",
       "4                         5              3          4   \n",
       "\n",
       "   Loss of Interest in Activities  Sleep Issues  Depression Score  \\\n",
       "0                               4             5                34   \n",
       "1                               4             5                35   \n",
       "2                               2             5                26   \n",
       "3                               3             2                26   \n",
       "4                               4             1                30   \n",
       "\n",
       "   Anxiety Score  Depression Likelihood Anxiety Likelihood  \n",
       "0             24              very high               high  \n",
       "1             28              very high               high  \n",
       "2             24                   high               high  \n",
       "3             21                   high           moderate  \n",
       "4             29                   high               high  \n",
       "\n",
       "[5 rows x 21 columns]"
      ]
     },
     "execution_count": 19,
     "metadata": {},
     "output_type": "execute_result"
    }
   ],
   "source": [
    "# define a function which takes a row as a range, and returns the likelihood of depression based on the depression score.\n",
    "def depRange(row):\n",
    "    if row['Depression Score'] < 16:\n",
    "        return 'low'\n",
    "    if row['Depression Score'] < 24:\n",
    "        return'moderate'\n",
    "    if row['Depression Score'] < 32:\n",
    "        return 'high'\n",
    "    return'very high'\n",
    "\n",
    "# define a function which takes a row as a range, and returns the likelihood of anxiety based on the anxiety score.\n",
    "def anxRange(row):\n",
    "    if row['Anxiety Score'] < 16:\n",
    "        return 'low'\n",
    "    if row['Anxiety Score'] < 24:\n",
    "        return'moderate'\n",
    "    if row['Anxiety Score'] < 32:\n",
    "        return 'high'\n",
    "    return'very high'\n",
    "\n",
    "# apply the functions to our dataframe, and create new columns indicated depression and anxiety likelihood.\n",
    "data['Depression Likelihood'] = data.apply(depRange, axis=1)\n",
    "data['Anxiety Likelihood'] = data.apply(anxRange, axis=1)\n",
    "\n",
    "# lets see what our data looks like\n",
    "data.head(5)"
   ]
  },
  {
   "cell_type": "markdown",
   "id": "cf398923-e277-401e-87f5-65022e72a23f",
   "metadata": {},
   "source": [
    "Now that the levels of our participants depression and anxiety are quantified, we can start visualizing the data.\n",
    "\n",
    "### Data Visualization\n",
    "Lets begin by looking at the general distribution of the likelihood of depression and anxiety in our dataset:"
   ]
  },
  {
   "cell_type": "code",
   "execution_count": 21,
   "id": "d08493f5-65e9-4313-acba-572565f610ea",
   "metadata": {},
   "outputs": [
    {
     "data": {
      "text/plain": [
       "<Axes: xlabel='Depression Likelihood', ylabel='Count'>"
      ]
     },
     "execution_count": 21,
     "metadata": {},
     "output_type": "execute_result"
    },
    {
     "data": {
      "image/png": "[encoded data removed]",
      "text/plain": [
       "<Figure size 640x480 with 1 Axes>"
      ]
     },
     "metadata": {},
     "output_type": "display_data"
    }
   ],
   "source": [
    "data.groupby('Depression Likelihood').size().plot.bar(xlabel='Depression Likelihood', ylabel='Count')"
   ]
  },
  {
   "cell_type": "code",
   "execution_count": 22,
   "id": "f98ba120-ec1d-45cc-b7a3-01958cbf23f5",
   "metadata": {},
   "outputs": [
    {
     "data": {
      "text/plain": [
       "<Axes: xlabel='Anxiety Likelihood', ylabel='Count'>"
      ]
     },
     "execution_count": 22,
     "metadata": {},
     "output_type": "execute_result"
    },
    {
     "data": {
      "image/png": "[encoded data removed]",
      "text/plain": [
       "<Figure size 640x480 with 1 Axes>"
      ]
     },
     "metadata": {},
     "output_type": "display_data"
    }
   ],
   "source": [
    "data.groupby('Anxiety Likelihood').size().plot.bar(xlabel='Anxiety Likelihood', ylabel='Count')"
   ]
  },
  {
   "cell_type": "markdown",
   "id": "64bf5dbb-4859-4a1b-89bb-862089c915bc",
   "metadata": {},
   "source": [
    "From these two plots we can see that anxiety and depression are present in our sample to a relatively high degree, with the majority of participants presenting with a high or moderate likelihood of depression and anxiety.<br>\n",
    "We can also see that there is a slightly higher prevelance of anxiety disorders among the participants which is consistent with real world data, although a much higher percentage of the sample suffers from a very high likelihood of depression, in comparison with much lower levels (approx. a third) of very high anxiety.<br><br>\n",
    "Now let's examine the distributions of depression and anxiety across our parameters. We will start with the hours spent on social media:"
   ]
  },
  {
   "cell_type": "code",
   "execution_count": 47,
   "id": "14d2844e-b3c5-4c79-bdc0-f6c1e2256fd0",
   "metadata": {},
   "outputs": [
    {
     "data": {
      "text/plain": [
       "<Axes: xlabel='Time Spent'>"
      ]
     },
     "execution_count": 47,
     "metadata": {},
     "output_type": "execute_result"
    },
    {
     "data": {
      "image/png": "[encoded data removed]",
      "text/plain": [
       "<Figure size 640x480 with 1 Axes>"
      ]
     },
     "metadata": {},
     "output_type": "display_data"
    }
   ],
   "source": [
    "temp = data.groupby(['Time Spent', 'Depression Likelihood']).size()\n",
    "temp = temp.unstack()\n",
    "temp.plot(kind='bar')"
   ]
  },
  {
   "cell_type": "markdown",
   "id": "1532ce39-2476-4432-9083-a7b0d8c49a1a",
   "metadata": {},
   "source": [
    "We see here that time spent on social media correlates with depression, as those who spend less than an hour on social media have by far the lowest prevelance of 'very high' depression and the highest prevelance of 'low' depression, and the reverse is true for those who spend more than 5 hours on social media.<br>\n",
    "Interestingly, TODO: percentages instead of size()\n"
   ]
  },
  {
   "cell_type": "code",
   "execution_count": null,
   "id": "dc1a1923-9f4f-4eec-9de5-2a0aaabaff24",
   "metadata": {},
   "outputs": [],
   "source": []
  }
 ],
 "metadata": {
  "kernelspec": {
   "display_name": "Python 3 (ipykernel)",
   "language": "python",
   "name": "python3"
  },
  "language_info": {
   "codemirror_mode": {
    "name": "ipython",
    "version": 3
   },
   "file_extension": ".py",
   "mimetype": "text/x-python",
   "name": "python",
   "nbconvert_exporter": "python",
   "pygments_lexer": "ipython3",
   "version": "3.12.7"
  }
 },
 "nbformat": 4,
 "nbformat_minor": 5
}
