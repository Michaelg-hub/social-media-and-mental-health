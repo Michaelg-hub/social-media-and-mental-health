{
 "cells": [
  {
   "cell_type": "markdown",
   "id": "85269a3d",
   "metadata": {},
   "source": [
    "# Social Media Use Patterns and Mental Health, a Data Science Project\n",
    "\n",
    "The relationship between social media use and mental health outcomes is not fully understood.\n",
    "Given that social media is widespread among many different demographics, it is critical to understand this relationship and the effects social media has on mental health in order to properly treat mental disorders and improve quality of life for those suffering from them.\n",
    "\n",
    "As \"mental health\" is a far reaching and abstractly defined concept, this project will focus on two of the most common mental health disorders, anxiety and depression, and will use various machine learning classifiers in an attempt to isolate the relationship between these disorders and social media use in individuals."
   ]
  },
  {
   "cell_type": "markdown",
   "id": "a1c80fb4",
   "metadata": {},
   "source": [
    "### The impact of mental illness\n",
    "\n",
    "Mental illness impacts individuals, and by extension society, in a variety of ways.\n",
    "\n",
    "According to the World Health Organization (WHO):\n",
    "- Mental health conditions can cause difficulties in all aspects of life, including relationships with family, friends and community.\n",
    "- In 2019, 970 million people globally were living with a mental disorder, with anxiety and depression the most common. This means approximately **1 in 8[/bold] people suffer from some form of mental illness.\n",
    "- In 2019, 301 million people were living with an anxiety disorder including 58 million children and adolescents.\n",
    "- In 2019, 280 million people were living with depression, including 23 million children and adolescents.\n",
    "\n",
    "The high prevalence of both social media use and mental health disorders combined with the currently limited understanding of the way they interact makes further analysis of the subject crucial to public health."
   ]
  },
  {
   "cell_type": "markdown",
   "id": "91488289",
   "metadata": {},
   "source": [
    "# Project goals\n",
    "\n",
    "Despite the prevalence of these disorders, detection and diagnosis still pose a significant challenge due to several factors:\n",
    "- Diagnosis of anxiety and depression is made according to the self reported feelings of the patient.\n",
    "\n",
    "  This means that factors such as the individuals personal feelings on mental health, their willingness to accept help, and social stigma all play a part in the detection of these disorders in a way which is not present with physical conditions.\n",
    "-  Disease comorbidity\n",
    "\n",
    "   The existence of two or more mental health disorders in an individual is common, and those with one type of mental disorder often develop other types of mental disorders.\n",
    "   Moreover, many disorders share similar symptoms, making it difficult to identify the primary condition.\n",
    "\n",
    "The primary goal of this project is to create a predictive model for detection of anxiety and depression based on individual social media use patterns.\n",
    "Through this, I hope to create another tool for individuals and health care professionals to use in the difficult task of mental health diagnosis.\n",
    "\n",
    "The secondary goal of this project is to map the relationship between mental health and social media, and to identify healthy and unhealthy social media use patterns using machine learning tools. "
   ]
  },
  {
   "cell_type": "markdown",
   "id": "f6e8b10c-72b1-4f06-91e0-3c84f4030548",
   "metadata": {},
   "source": [
    "# Exploratory Data Analysis\n",
    "## The Dataset"
   ]
  },
  {
   "cell_type": "markdown",
   "id": "c1c289fa-edcd-47cc-891a-871a7ef053da",
   "metadata": {},
   "source": [
    "The dataset used in this project is comprised of 482 responses to a survey conducted on Bangladeshi citizens.\n",
    "The first 8 questions are designed to understand the demographics of the participants. \n",
    "The last 12 questions are designed to get various mental health indicators regarding the participants, and responses are based on the Likert scale (meaning a low score of 1 indicates that the participant \"strongly disagrees\" with the question, and a high score of 5 means the participant \"strongly agrees\").\n",
    "\n",
    "The set: https://docs.google.com/spreadsheets/d/1lWFIL7h0F7xtmJHNPJX7ttPkO4v9j3xQ2E9Qb1wjek4/edit?usp=sharing"
   ]
  },
  {
   "cell_type": "code",
   "execution_count": null,
   "id": "33a61698-3048-42cf-88d3-816f62d1345b",
   "metadata": {},
   "outputs": [],
   "source": []
  }
 ],
 "metadata": {
  "kernelspec": {
   "display_name": "Python 3 (ipykernel)",
   "language": "python",
   "name": "python3"
  },
  "language_info": {
   "codemirror_mode": {
    "name": "ipython",
    "version": 3
   },
   "file_extension": ".py",
   "mimetype": "text/x-python",
   "name": "python",
   "nbconvert_exporter": "python",
   "pygments_lexer": "ipython3",
   "version": "3.12.7"
  }
 },
 "nbformat": 4,
 "nbformat_minor": 5
}
